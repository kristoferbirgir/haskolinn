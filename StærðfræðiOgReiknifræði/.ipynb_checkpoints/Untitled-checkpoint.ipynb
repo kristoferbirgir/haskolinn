{
 "cells": [
  {
   "cell_type": "code",
   "execution_count": 10,
   "id": "78c4ab38-455a-460f-a458-44c3cf13be9e",
   "metadata": {},
   "outputs": [
    {
     "name": "stdout",
     "output_type": "stream",
     "text": [
      "Útkoman er 6 og 8.06225774829855\n"
     ]
    }
   ],
   "source": [
    "import math\n",
    "\n",
    "def fall(n,a):\n",
    "    if a > 1: \n",
    "        return n*a\n",
    "    else:\n",
    "        return math.sqrt(a**(2*n)+1)\n",
    "print(f\"Útkoman er {fall(2,3)} og {fall(3,-2)}\")"
   ]
  },
  {
   "cell_type": "code",
   "execution_count": null,
   "id": "71ea42f5-cd0e-46dc-874f-03459e98067b",
   "metadata": {},
   "outputs": [],
   "source": []
  }
 ],
 "metadata": {
  "kernelspec": {
   "display_name": "Python 3 (ipykernel)",
   "language": "python",
   "name": "python3"
  },
  "language_info": {
   "codemirror_mode": {
    "name": "ipython",
    "version": 3
   },
   "file_extension": ".py",
   "mimetype": "text/x-python",
   "name": "python",
   "nbconvert_exporter": "python",
   "pygments_lexer": "ipython3",
   "version": "3.10.8"
  }
 },
 "nbformat": 4,
 "nbformat_minor": 5
}
