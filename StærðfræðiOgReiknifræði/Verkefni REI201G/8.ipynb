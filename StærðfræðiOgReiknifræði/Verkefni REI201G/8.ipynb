{
 "cells": [
  {
   "cell_type": "markdown",
   "id": "48049b22-9334-4879-b226-0f23de3c516f",
   "metadata": {},
   "source": [
    "# 8 Pólhnit\n",
    "\n",
    "1. Skrifið fall pol2rec(r,theta) sem skilar pari (x,y), til að breyta úr pólhnitum yfir í rétthyrnd hnit með eftirfarandi formúlum:\n",
    "\n",
    "$\\begin{split}x &= r \\cos{\\theta}\\\\\n",
    "y &= r \\sin{\\theta}\\end{split}$ \n",
    "\n",
    "Prófið að breyta $(r,\\theta) = (4,35°)$ yfir í rétthyrnd hnit $x$ og $y$ (á að gefa $x = 3.277$, $y = 2.294$. Munið að nota math.radians til að breyta gráðum í radíana. \n",
    "\n",
    "2. Skrifið svo annað fall, rec2pol(x,y) sem skilar (r,theta) og breytir í hina áttina með formúlunum:\n",
    "\n",
    "$\\begin{split}\\theta &= \\operatorname{atan2}(y,x)\\\\\n",
    "r &= \\sqrt{x^2 + y^2}\\end{split}$\n",
    "\n",
    "Prófið að breyta svarinu sem fékkst í lið 1 aftur til baka í pólhnit."
   ]
  },
  {
   "cell_type": "markdown",
   "id": "0901de8d-bdf1-4719-8997-680606871694",
   "metadata": {},
   "source": [
    "# Lausn"
   ]
  },
  {
   "cell_type": "code",
   "execution_count": 2,
   "id": "f724bf08-db41-4d4d-ba7c-3c67225ad3c5",
   "metadata": {},
   "outputs": [
    {
     "name": "stdout",
     "output_type": "stream",
     "text": [
      "3.276608177155967 2.294305745404184\n",
      "3.9999999999999996 35.0\n"
     ]
    }
   ],
   "source": [
    "from math import cos, sin, radians, degrees, sqrt, atan2\n",
    "def pol2rec(r, theta):\n",
    "    x = r*cos(radians(theta))\n",
    "    y = r*sin(radians(theta))\n",
    "    return (x, y)\n",
    "def rec2pol(x, y):\n",
    "    theta = degrees(atan2(y, x))\n",
    "    r = sqrt(x**2 + y**2)\n",
    "    return (r, theta)\n",
    "(x, y) = pol2rec(4,35)\n",
    "print(x, y)\n",
    "(r, theta) = rec2pol(x,y)\n",
    "print(r,theta)"
   ]
  },
  {
   "cell_type": "code",
   "execution_count": null,
   "id": "bf9f6ce6-4f37-4cc0-bd0f-40ed2558be9b",
   "metadata": {},
   "outputs": [],
   "source": []
  }
 ],
 "metadata": {
  "kernelspec": {
   "display_name": "Python 3 (ipykernel)",
   "language": "python",
   "name": "python3"
  },
  "language_info": {
   "codemirror_mode": {
    "name": "ipython",
    "version": 3
   },
   "file_extension": ".py",
   "mimetype": "text/x-python",
   "name": "python",
   "nbconvert_exporter": "python",
   "pygments_lexer": "ipython3",
   "version": "3.10.8"
  }
 },
 "nbformat": 4,
 "nbformat_minor": 5
}
