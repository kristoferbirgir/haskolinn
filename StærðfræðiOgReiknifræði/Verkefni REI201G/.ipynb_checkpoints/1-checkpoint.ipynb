{
 "cells": [
  {
   "cell_type": "markdown",
   "id": "45f2060c-9d3d-44c7-9b8c-88742b458e89",
   "metadata": {},
   "source": [
    "# 1  Verkefni: Annars stigs jafna"
   ]
  },
  {
   "cell_type": "markdown",
   "id": "70d2655f-2f86-40fc-80d2-edcc097c5acd",
   "metadata": {},
   "source": [
    "Skrifið forrit sem leysir annars stigs jöfnu $ a x^2 + b x + c = 0 $ Forritið á að lesa inn 𝑎\n",
    ", 𝑏\n",
    " og 𝑐\n",
    " með input-skipunum (með viðeigandi beiðnum til notanda). Ef jafnan hefur tvær lausnir á forritið að skrifa „Lausnirnar eru:“ og síðan lausnirnar, ef hún hefur eina lausn á að skrifa hana með viðeigandi skýringu og ef engin lausn er skal skrifa skilaboð um það. Lausn eða lausnir eru gefnar með formúlunni $ x = \\frac{-b \\pm \\sqrt{b^2 - 4ac}}{2a} $ Ef stærðin undir kvaðratrótinni er neikvæð þá er engin lausn, ef hún er núll er ein lausn, annars tvær. Gerið auk þess ráð fyrir þeim möguleika að 𝑎\n",
    " sé 0. Ef 𝑏\n",
    " er ekki líka 0 þá er jafnan fyrsta stigs og forritið á að skrifa að svo sé, ásamt lausninni (sem er þá ein). Látið 𝑏\n",
    " og 𝑐\n",
    " vera gefin með afmælisdegi ykkar (dagur og mánuður) og prófið forritið fyrir fjórar mismunandi jöfnur, fyrsta stigs jöfnuna $bx + c = 0$ og annars stigs jöfnur sem hafa enga, eina og tvær lausnir þar á meðal jöfnuna $x^2 + bx +\n",
    "c = 0$\n",
    ". Setjið viðeigandi skjölunarstreng fremst í forritið."
   ]
  },
  {
   "cell_type": "code",
   "execution_count": null,
   "id": "6801d597-1dee-46b9-9baf-ee733c65e612",
   "metadata": {},
   "outputs": [],
   "source": [
    " "
   ]
  }
 ],
 "metadata": {
  "kernelspec": {
   "display_name": "Python 3 (ipykernel)",
   "language": "python",
   "name": "python3"
  },
  "language_info": {
   "codemirror_mode": {
    "name": "ipython",
    "version": 3
   },
   "file_extension": ".py",
   "mimetype": "text/x-python",
   "name": "python",
   "nbconvert_exporter": "python",
   "pygments_lexer": "ipython3",
   "version": "3.10.8"
  }
 },
 "nbformat": 4,
 "nbformat_minor": 5
}
