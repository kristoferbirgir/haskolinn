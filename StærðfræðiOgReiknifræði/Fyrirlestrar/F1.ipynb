{
 "cells": [
  {
   "cell_type": "code",
   "execution_count": 1,
   "id": "853481a3-d1f1-41dc-a4b4-8941615e1902",
   "metadata": {},
   "outputs": [
    {
     "name": "stdout",
     "output_type": "stream",
     "text": [
      "Nokkrar Collatz-runur\n",
      "runa: 2, 1\n",
      "runa: 3, 10, 5, 16, 8, 4, 2, 1\n",
      "runa: 4, 2, 1\n",
      "runa: 5, 16, 8, 4, 2, 1\n",
      "runa: 6, 3, 10, 5, 16, 8, 4, 2, 1\n",
      "runa: 7, 22, 11, 34, 17, 52, 26, 13, 40, 20, 10, 5, 16, 8, 4, 2, 1\n"
     ]
    }
   ],
   "source": [
    "# COLLATZ ÆFING\n",
    "def næsta(x):\n",
    "    '''skilar næstu tölu á eftir x í Collatz-runu'''\n",
    "    if x % 2 == 0:\n",
    "        f = x//2\n",
    "    else:\n",
    "        f = 3*x + 1\n",
    "    return f\n",
    "\n",
    "def collatz_runa(n):\n",
    "    '''finnur og skrifar út Collatz-runu sem byrjar á n'''\n",
    "    print('runa: ', end='')\n",
    "    while n > 1:\n",
    "        print(n, end=', ')\n",
    "        n = næsta(n)\n",
    "    print(n)\n",
    "\n",
    "# Forrit sem prentar út Collatz-runur sem byrja á 2, 3,...,7:\n",
    "print('Nokkrar Collatz-runur')\n",
    "for n0 in range(2,8):\n",
    "    collatz_runa(n0)"
   ]
  },
  {
   "cell_type": "code",
   "execution_count": 2,
   "id": "f1c037cc-3d9e-459c-b73a-66d8e57286cc",
   "metadata": {},
   "outputs": [],
   "source": [
    "#Æfing 4.1\n",
    "# 1) a, c, g, eru ólögleg breytunöfn... þarf að laga cs.hi.is kemur út illa út í google chrome erfitt að lesa æfingu. \n",
    "# 2) and,as assert, break. "
   ]
  },
  {
   "cell_type": "code",
   "execution_count": 4,
   "id": "56f56fd5-687b-4a99-9a32-09ba0fccd429",
   "metadata": {},
   "outputs": [
    {
     "data": {
      "text/plain": [
       "(1.75, 1, 2.0, 2)"
      ]
     },
     "execution_count": 4,
     "metadata": {},
     "output_type": "execute_result"
    }
   ],
   "source": [
    "#Æfing 4.2 (1)\n",
    "7/4,7//4, 8/4, 8//4"
   ]
  },
  {
   "cell_type": "code",
   "execution_count": 13,
   "id": "f7230b7e-cdfc-4f40-8cec-7c9bb118fbac",
   "metadata": {},
   "outputs": [
    {
     "data": {
      "text/plain": [
       "(3, 2401)"
      ]
     },
     "execution_count": 13,
     "metadata": {},
     "output_type": "execute_result"
    }
   ],
   "source": [
    "#Æfing 4.2 (2)\n",
    "7 % 4, 7 ** 4\n",
    "#Verið að reikna afgang þegar 7 er deilt með 4 og 7 í veldinu 4. "
   ]
  },
  {
   "cell_type": "code",
   "execution_count": 14,
   "id": "8e491cda-a99a-44b1-9714-ba7503947749",
   "metadata": {},
   "outputs": [
    {
     "data": {
      "text/plain": [
       "True"
      ]
     },
     "execution_count": 14,
     "metadata": {},
     "output_type": "execute_result"
    }
   ],
   "source": [
    "#Æfing 4.2 (3)\n",
    "x=5\n",
    "2<x<7 and x!=10\n",
    " "
   ]
  },
  {
   "cell_type": "code",
   "execution_count": 15,
   "id": "3ba6a338-7fb8-4a35-8a87-efc1cc333a28",
   "metadata": {},
   "outputs": [
    {
     "data": {
      "text/plain": [
       "False"
      ]
     },
     "execution_count": 15,
     "metadata": {},
     "output_type": "execute_result"
    }
   ],
   "source": [
    "#Æfing 4.2 (3)\n",
    "x%2==0 and x<8 "
   ]
  },
  {
   "cell_type": "code",
   "execution_count": 16,
   "id": "e970b3fc-e72e-4e01-a839-75a088581e97",
   "metadata": {},
   "outputs": [
    {
     "data": {
      "text/plain": [
       "(True, False)"
      ]
     },
     "execution_count": 16,
     "metadata": {},
     "output_type": "execute_result"
    }
   ],
   "source": [
    "p=x==5\n",
    "q=x==6\n",
    "p,q"
   ]
  },
  {
   "cell_type": "code",
   "execution_count": 17,
   "id": "57e21eda-3040-435d-a786-6e6f8b6f844e",
   "metadata": {},
   "outputs": [
    {
     "data": {
      "text/plain": [
       "7"
      ]
     },
     "execution_count": 17,
     "metadata": {},
     "output_type": "execute_result"
    }
   ],
   "source": [
    "x+=2\n",
    "x"
   ]
  },
  {
   "cell_type": "code",
   "execution_count": 18,
   "id": "900873d6-a6b7-4e04-8e1e-7f8c58af8816",
   "metadata": {},
   "outputs": [
    {
     "data": {
      "text/plain": [
       "(10, 7)"
      ]
     },
     "execution_count": 18,
     "metadata": {},
     "output_type": "execute_result"
    }
   ],
   "source": [
    "y=10\n",
    "(x,y) = (y,x)\n",
    "x,y"
   ]
  },
  {
   "cell_type": "code",
   "execution_count": 19,
   "id": "1e25f346-4bc6-49a3-9fd9-47a7015b17be",
   "metadata": {},
   "outputs": [],
   "source": [
    "#Æfing 4.8"
   ]
  },
  {
   "cell_type": "code",
   "execution_count": 20,
   "id": "0ce80c86-44c5-463f-b331-051a79df3b49",
   "metadata": {},
   "outputs": [
    {
     "data": {
      "text/plain": [
       "(3, 2.7, -3)"
      ]
     },
     "execution_count": 20,
     "metadata": {},
     "output_type": "execute_result"
    }
   ],
   "source": [
    "x = -3\n",
    "y = 2.7\n",
    "s = \"abc\" \n",
    "abs(x), max(x,y), min(x,y)\n"
   ]
  },
  {
   "cell_type": "code",
   "execution_count": 21,
   "id": "1ad91849-fab4-47e1-98f3-55de3433ce49",
   "metadata": {},
   "outputs": [
    {
     "data": {
      "text/plain": [
       "(-3.0, 2)"
      ]
     },
     "execution_count": 21,
     "metadata": {},
     "output_type": "execute_result"
    }
   ],
   "source": [
    "float(x), int(y)"
   ]
  },
  {
   "cell_type": "code",
   "execution_count": 22,
   "id": "9c849d2a-3105-465b-b652-e962458cbae9",
   "metadata": {},
   "outputs": [
    {
     "data": {
      "text/plain": [
       "range(0, 4)"
      ]
     },
     "execution_count": 22,
     "metadata": {},
     "output_type": "execute_result"
    }
   ],
   "source": [
    "range(4)"
   ]
  },
  {
   "cell_type": "code",
   "execution_count": 23,
   "id": "951253f9-3ef9-40b7-9188-612596dd568c",
   "metadata": {},
   "outputs": [
    {
     "data": {
      "text/plain": [
       "(3, str)"
      ]
     },
     "execution_count": 23,
     "metadata": {},
     "output_type": "execute_result"
    }
   ],
   "source": [
    "len(s), type(s)"
   ]
  },
  {
   "cell_type": "code",
   "execution_count": 24,
   "id": "a70209af-9e51-4521-8cf1-1f7fa2642c81",
   "metadata": {},
   "outputs": [
    {
     "name": "stdout",
     "output_type": "stream",
     "text": [
      "<class 'str'>\n"
     ]
    }
   ],
   "source": [
    "print(type(s))"
   ]
  },
  {
   "cell_type": "code",
   "execution_count": 25,
   "id": "6699972a-20d7-4e69-a97f-26c211c7242c",
   "metadata": {},
   "outputs": [
    {
     "data": {
      "text/plain": [
       "str"
      ]
     },
     "metadata": {},
     "output_type": "display_data"
    }
   ],
   "source": [
    "display(type(s))"
   ]
  },
  {
   "cell_type": "code",
   "execution_count": 26,
   "id": "661bf681-0a3d-458a-9373-9304aaea3a51",
   "metadata": {},
   "outputs": [],
   "source": [
    "#Æfing 4.8 (2)\n"
   ]
  },
  {
   "cell_type": "code",
   "execution_count": 27,
   "id": "24be488e-b51c-4402-9bbf-dbecda05a42e",
   "metadata": {},
   "outputs": [
    {
     "name": "stdout",
     "output_type": "stream",
     "text": [
      "T = 3.359\n"
     ]
    }
   ],
   "source": [
    "def sveifla(m,k1,k2):\n",
    "    import math \n",
    "    T = 2*math.pi*math.sqrt(m/(k1+k2))\n",
    "    return T\n",
    "\n",
    "m = 2\n",
    "k1 = 3\n",
    "k2 = 4\n",
    "T = sveifla (m,k1,k2)\n",
    "print(f\"T = {T:.3f}\")"
   ]
  },
  {
   "cell_type": "code",
   "execution_count": null,
   "id": "4f2be843-5d8a-41d5-bd20-fdd55f571529",
   "metadata": {},
   "outputs": [],
   "source": []
  }
 ],
 "metadata": {
  "kernelspec": {
   "display_name": "Python 3 (ipykernel)",
   "language": "python",
   "name": "python3"
  },
  "language_info": {
   "codemirror_mode": {
    "name": "ipython",
    "version": 3
   },
   "file_extension": ".py",
   "mimetype": "text/x-python",
   "name": "python",
   "nbconvert_exporter": "python",
   "pygments_lexer": "ipython3",
   "version": "3.10.8"
  }
 },
 "nbformat": 4,
 "nbformat_minor": 5
}
