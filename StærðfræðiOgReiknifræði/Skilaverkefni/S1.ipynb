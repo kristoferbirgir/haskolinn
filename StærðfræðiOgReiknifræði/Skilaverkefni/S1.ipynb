{
 "cells": [
  {
   "cell_type": "code",
   "execution_count": null,
   "id": "3b6ea665-35ea-4ec0-a900-d6e9fdcffab2",
   "metadata": {},
   "outputs": [],
   "source": [
    "#Skiladæmi 1 í Stærðfræði og reiknifræði"
   ]
  },
  {
   "cell_type": "code",
   "execution_count": 106,
   "id": "fc799edf-2a5d-41fd-8206-719690b65952",
   "metadata": {},
   "outputs": [
    {
     "name": "stdout",
     "output_type": "stream",
     "text": [
      "°C    °F\n",
      "---------\n",
      "-30   -22\n",
      "-25   -13\n",
      "-20    -4\n",
      "-15     5\n",
      "-10    14\n",
      "-5     23\n",
      "0      32\n",
      "5      41\n",
      "10     50\n",
      "15     59\n",
      "20     68\n",
      "25     77\n",
      "30     86\n",
      "35     95\n",
      "40    104\n",
      "45    113\n",
      "50    122\n"
     ]
    }
   ],
   "source": [
    "#Verkefni 3) A) Hitastigum breytt\n",
    "print(f\"{'°C':<4}{'°F':>4}\")\n",
    "print(\"---------\");\n",
    "for x in range(-30, 55, 5):\n",
    "  f = int(9/5*x+32)\n",
    "  print(f\"{x : <4}{f : >5}\")"
   ]
  },
  {
   "cell_type": "code",
   "execution_count": 2,
   "id": "331228d0-7bd9-4076-bad7-3a272d37a3c6",
   "metadata": {},
   "outputs": [
    {
     "name": "stdout",
     "output_type": "stream",
     "text": [
      "x  log(x)  √x    x²\n",
      "―――――――――――――――――――\n",
      " 1  0.00   1.00    1\n",
      " 2  0.69   1.41    4\n",
      " 3  1.10   1.73    9\n",
      " 4  1.39   2.00   16\n",
      " 5  1.61   2.24   25\n",
      " 6  1.79   2.45   36\n",
      " 7  1.95   2.65   49\n",
      " 8  2.08   2.83   64\n",
      " 9  2.20   3.00   81\n",
      " 10  2.30   3.16   100\n"
     ]
    }
   ],
   "source": [
    "#Verkefni 3) B1) Rætur, lograr, kvaðrarót\n",
    "import math\n",
    "print('x  log(x)  √x    x²')\n",
    "print('―――――――――――――――――――')\n",
    "for x in range(1,11):\n",
    "    print(f' {x}  {math.log(x):.2f}   {math.sqrt(x):.2f}   {x**2:2}')"
   ]
  },
  {
   "cell_type": "code",
   "execution_count": 3,
   "id": "0add4ba0-53a0-4c0c-bb9a-8866236b97da",
   "metadata": {},
   "outputs": [
    {
     "name": "stdout",
     "output_type": "stream",
     "text": [
      "x  log(x)  √x    x²\n",
      "―――――――――――――――――――\n",
      " 1  0.00   1.00    1\n",
      " 2  0.69   1.41    4\n",
      " 3  1.10   1.73    9\n",
      " 4  1.39   2.00   16\n",
      " 5  1.61   2.24   25\n",
      " 6  1.79   2.45   36\n",
      " 7  1.95   2.65   49\n",
      " 8  2.08   2.83   64\n",
      " 9  2.20   3.00   81\n",
      " 10  2.30   3.16   100\n"
     ]
    }
   ],
   "source": [
    "#Verkefni 3) B2) Rætur, lograr, kvaðrarót\n",
    "import math \n",
    "print('x  log(x)  √x    x²')\n",
    "print('―――――――――――――――――――')\n",
    "x = 1\n",
    "while x < 11:\n",
    "  print(f' {x}  {math.log(x):.2f}   {math.sqrt(x):.2f}   {x**2:2}')\n",
    "  if x == 11:\n",
    "    break\n",
    "  x += 1\n"
   ]
  },
  {
   "cell_type": "code",
   "execution_count": 71,
   "id": "416838bc-904e-41f6-a3c1-ee72cd072d15",
   "metadata": {},
   "outputs": [
    {
     "name": "stdout",
     "output_type": "stream",
     "text": [
      "(0, 3, 3, 3)\n"
     ]
    }
   ],
   "source": [
    "#Dæmi 3) C) Lograr og veldi \n",
    "import math\n",
    "print (f\"{round (math.log(1)), round (math.log((math.e**3))),round (math.log10(1000)),round (math.log2(8))}\")"
   ]
  },
  {
   "cell_type": "code",
   "execution_count": 42,
   "id": "28830d35-e57b-4026-b822-b5a31bb32d4d",
   "metadata": {},
   "outputs": [
    {
     "name": "stdout",
     "output_type": "stream",
     "text": [
      "Rúmmál kúlu er: 33.51\n"
     ]
    }
   ],
   "source": [
    "#Verkefni 3) D1) Rúmmál kúlu\n",
    "def rummal(r):\n",
    "    import math \n",
    "    R = (4*math.pi*r*r*r)/(3)\n",
    "    return R\n",
    "\n",
    "r = 2\n",
    "R = rummal (r)\n",
    "print(f\"Rúmmál kúlu er: {R:.2f}\")\n"
   ]
  },
  {
   "cell_type": "code",
   "execution_count": 163,
   "id": "ac6b2f19-a69e-455e-b548-ab2827303a76",
   "metadata": {},
   "outputs": [
    {
     "name": "stdout",
     "output_type": "stream",
     "text": [
      "radíus hrings með ummál 4pí er: 2.00\n"
     ]
    }
   ],
   "source": [
    "#Verkefni 3) D2) Rúmmál kúlu\n",
    "def radius(u):\n",
    "    import math \n",
    "    R = (u/(2*math.pi))\n",
    "    return R\n",
    "\n",
    "u = 4*math.pi\n",
    "R = radius (u)\n",
    "print(f\"radíus hrings með ummál 4pí er: {R:.2f}\")"
   ]
  },
  {
   "cell_type": "code",
   "execution_count": 56,
   "id": "6f071ae1-1457-47b6-8ceb-7339e46ad70b",
   "metadata": {},
   "outputs": [
    {
     "name": "stdout",
     "output_type": "stream",
     "text": [
      "massi = 154.4 kg\n"
     ]
    }
   ],
   "source": [
    "#Verkefni 3) D3) Rúmmál kúlu\n",
    "def massi (e,r):\n",
    "    import math\n",
    "    M = (e*r)\n",
    "    return M\n",
    "e = 0.0193\n",
    "r = 20 * 20 * 20\n",
    "M = massi (e,r)\n",
    "print(f\"massi = {M:.1f} kg\")\n"
   ]
  },
  {
   "cell_type": "code",
   "execution_count": 179,
   "id": "d1f652b4-8f2a-4938-aa45-4baffa910b1c",
   "metadata": {},
   "outputs": [
    {
     "name": "stdout",
     "output_type": "stream",
     "text": [
      "massi = 146666673.0 tonn\n"
     ]
    }
   ],
   "source": [
    "#Verkefni 3) D4) Rúmmál kúlu\n",
    "def massiJardar(r,v,p):\n",
    "    import math\n",
    "    M = ((p*v)/1000)\n",
    "    return M\n",
    "r = 6366198\n",
    "v = ((4/3)*math.pi*r)\n",
    "p = 5500\n",
    "M = massiJardar(r,v,p)\n",
    "print(f\"massi = {M:.1f} tonn\")     "
   ]
  },
  {
   "cell_type": "code",
   "execution_count": 3,
   "id": "77e311c9-0e4e-4e8e-92cd-882daaac8634",
   "metadata": {},
   "outputs": [
    {
     "name": "stdout",
     "output_type": "stream",
     "text": [
      "+-----------------+\n",
      "|   X   X   X   X |\n",
      "| X   X   X   X   |\n",
      "|   X   X   X   X |\n",
      "| X   X   X   X   |\n",
      "|   X   X   X   X |\n",
      "| X   X   X   X   |\n",
      "|   X   X   X   X |\n",
      "| X   X   X   X   |\n",
      "+-----------------+\n",
      "+-----+\n",
      "|   X |\n",
      "| X   |\n",
      "+-----+\n"
     ]
    }
   ],
   "source": [
    "#Verkefni 3) E) Taflborð \n",
    "def L1(n):\n",
    "  print(\"+\", end=\"\")\n",
    "  print((2*n+1)*\"-\", end=\"\")\n",
    "  print(\"+\")\n",
    "\n",
    "def L2(n):\n",
    "  print(\"|\", end=\"\")\n",
    "  print(int(n/2)*(\"   X\"), end=\" \")\n",
    "  print(\"|\")\n",
    "\n",
    "def L3(n):\n",
    "  print(\"|\", end=\" \")\n",
    "  print(int(n/2)*(\"X   \"), end=\"\")\n",
    "  print(\"|\")\n",
    "\n",
    "n = 8\n",
    "\n",
    "if n % 2 == 0:\n",
    "  L1(n)\n",
    "  for x in range(int(n/2)):\n",
    "    L2(n)\n",
    "    L3(n)\n",
    "  L1(n)\n",
    "else:\n",
    "  print(\"N er ekki slétt tala\")\n",
    "\n",
    "\n",
    "n = 2\n",
    "\n",
    "if n % 2 == 0:\n",
    "  L1(n)\n",
    "  for x in range(int(n/2)):\n",
    "    L2(n)\n",
    "    L3(n)\n",
    "  L1(n)\n",
    "else:\n",
    "  print(\"N er ekki slétt tala\")"
   ]
  }
 ],
 "metadata": {
  "kernelspec": {
   "display_name": "Python 3 (ipykernel)",
   "language": "python",
   "name": "python3"
  },
  "language_info": {
   "codemirror_mode": {
    "name": "ipython",
    "version": 3
   },
   "file_extension": ".py",
   "mimetype": "text/x-python",
   "name": "python",
   "nbconvert_exporter": "python",
   "pygments_lexer": "ipython3",
   "version": "3.10.8"
  }
 },
 "nbformat": 4,
 "nbformat_minor": 5
}
