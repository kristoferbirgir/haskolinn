{
 "cells": [
  {
   "cell_type": "code",
   "execution_count": null,
   "id": "1b1fab23-5095-473d-9a65-70cb3daeb378",
   "metadata": {},
   "outputs": [],
   "source": [
    "#Skiladæmi 2 í Stærðfræði og reiknifræði"
   ]
  },
  {
   "cell_type": "code",
   "execution_count": 33,
   "id": "4074264b-a55f-4d14-8b1f-1046cb973757",
   "metadata": {},
   "outputs": [
    {
     "name": "stdout",
     "output_type": "stream",
     "text": [
      "* 0.6593312\n",
      "** 1.7183188\n",
      "Afmælisdagur: 3.5\n"
     ]
    }
   ],
   "source": [
    "#Verkefni 2) B) Simpson-regla\n",
    "\n",
    "import math\n",
    "from math import sin, e\n",
    "def simpson(f, a, b, n):\n",
    "    h = (b - a) / n\n",
    "    s = f(a) + f(b)\n",
    "    for i in range(1, n, 2):\n",
    "        s += 4 * f(a + i * h)\n",
    "    for i in range(2, n-1, 2):\n",
    "        s += 2 * f(a + i * h)\n",
    "    return (h / 3) * s\n",
    "\n",
    "def f(x):\n",
    "    return sin(x)/x\n",
    "def g(x):\n",
    "    return e**x\n",
    "def r(x):\n",
    "    return 28/8\n",
    "a = 1\n",
    "b = 2\n",
    "n = 4\n",
    "\n",
    "result = simpson(f, a, b, n)\n",
    "print(\"*\",round(result,7))\n",
    "a=0\n",
    "b=1\n",
    "result = simpson(g, a, b, n)\n",
    "print(\"**\",round(result,7))\n",
    "result = simpson(r, a, b, n)\n",
    "print(\"Afmælisdagur:\",round(result,7))"
   ]
  },
  {
   "cell_type": "code",
   "execution_count": 19,
   "id": "a5172d89-c5b6-4425-8da5-99bb7067fd48",
   "metadata": {},
   "outputs": [
    {
     "name": "stdout",
     "output_type": "stream",
     "text": [
      "Bóluröðun er:\n",
      "1 2 3 4 5 8 "
     ]
    }
   ],
   "source": [
    "#Verkefni 7) Bóluröðun\n",
    "\n",
    "def bolurodun(arr):\n",
    "    n = len(arr)\n",
    "    vixlad = False\n",
    "    for i in range(n-1):\n",
    "    \n",
    "        for j in range(0, n-i-1):\n",
    " \n",
    "            if arr[j] > arr[j + 1]:\n",
    "                vixlad = True\n",
    "                arr[j], arr[j + 1] = arr[j + 1], arr[j]\n",
    "         \n",
    "        if not vixlad:\n",
    "            return\n",
    " \n",
    " \n",
    "# testum þetta með gefnum tölum\n",
    "arr = [3, 8, 1, 2, 5, 4]\n",
    " \n",
    "bolurodun(arr)\n",
    " \n",
    "print(\"Bóluröðun er:\")\n",
    "for i in range(len(arr)):\n",
    "    print(\"%d\" % arr[i], end=\" \")"
   ]
  },
  {
   "cell_type": "code",
   "execution_count": 27,
   "id": "46b54fc0-badd-48b8-b607-d1d15294e472",
   "metadata": {},
   "outputs": [
    {
     "name": "stdout",
     "output_type": "stream",
     "text": [
      "Heildarvextir eru: 682 kr\n"
     ]
    }
   ],
   "source": [
    "#Verkefni 38) B1) \n",
    "def heildarvextir(u,p,k,m):\n",
    "    import math \n",
    "    V = int((u*(1+p)**k)*(1+(p*m/12))-u)\n",
    "    return V\n",
    "u=10000\n",
    "p=2/100\n",
    "k=3\n",
    "m=4\n",
    "V=heildarvextir (u,p,k,m)\n",
    "print(f\"Heildarvextir eru: {V:.0f} kr\")"
   ]
  },
  {
   "cell_type": "code",
   "execution_count": 87,
   "id": "a51e45d6-3f7b-4518-94d6-55a594a66505",
   "metadata": {},
   "outputs": [
    {
     "name": "stdout",
     "output_type": "stream",
     "text": [
      "Heildarvextir frá því að ég fæddist ef lagt 25.000 kr á fæðingardegi: 24956 kr\n"
     ]
    }
   ],
   "source": [
    "#Verkefni 38) B2)\n",
    "def heildarvextir(u,p,k,m):\n",
    "    import math \n",
    "    V = int((u*(1+p)**k)*(1+(p*m/12))-u)\n",
    "    return V\n",
    "u=25000\n",
    "p=3/100\n",
    "k=23\n",
    "m=5\n",
    "V=heildarvextir (u,p,k,m)\n",
    "print(f\"Heildarvextir frá því að ég fæddist ef lagt 25.000 kr á fæðingardegi: {V:.0f} kr\")"
   ]
  },
  {
   "cell_type": "code",
   "execution_count": 24,
   "id": "894d55a0-7d91-4d87-9af5-c0837ff93b0f",
   "metadata": {},
   "outputs": [
    {
     "name": "stdout",
     "output_type": "stream",
     "text": [
      "5 ár og 8 mánuði\n",
      "14 ár og 2 mánuði\n",
      "Dagsetning ekki relevant (því verðbólga og fleiri factorar ekki í jöfnu)\n"
     ]
    }
   ],
   "source": [
    "#Verkefni 38) B3) \n",
    "\n",
    "import math\n",
    "\n",
    "def tvofoldun(upphaed, vextir):\n",
    "    years = math.log(2) / math.log(1 + (vextir/100))\n",
    "    years, months = divmod(years, 1)\n",
    "    months = int(months * 12)\n",
    "    return int(years), months\n",
    "\n",
    "years, months = tvofoldun(25000, 13)\n",
    "print(f\"{years} ár og {months} mánuði\")\n",
    "years, months = tvofoldun(25000, 5)\n",
    "print(f\"{years} ár og {months} mánuði\")\n",
    "print(\"Dagsetning ekki relevant (því verðbólga og fleiri factorar ekki í jöfnu)\")"
   ]
  }
 ],
 "metadata": {
  "kernelspec": {
   "display_name": "Python 3 (ipykernel)",
   "language": "python",
   "name": "python3"
  },
  "language_info": {
   "codemirror_mode": {
    "name": "ipython",
    "version": 3
   },
   "file_extension": ".py",
   "mimetype": "text/x-python",
   "name": "python",
   "nbconvert_exporter": "python",
   "pygments_lexer": "ipython3",
   "version": "3.10.8"
  }
 },
 "nbformat": 4,
 "nbformat_minor": 5
}
