{
 "cells": [
  {
   "cell_type": "code",
   "execution_count": null,
   "id": "ac5520fd-966a-4686-b34c-1c274b98032d",
   "metadata": {},
   "outputs": [],
   "source": [
    "#Skiladæmi 3 í Stærðfræði og reiknifræði"
   ]
  },
  {
   "cell_type": "code",
   "execution_count": 48,
   "id": "51f0f5de-3d06-4065-9eaa-95a9674bb701",
   "metadata": {},
   "outputs": [
    {
     "name": "stdout",
     "output_type": "stream",
     "text": [
      "[3, 4, 2, 4, 3]\n",
      "[9, 6]\n"
     ]
    }
   ],
   "source": [
    "#Verkefni 4.1) Orðaleikur\n",
    "\n",
    "def telja(s):\n",
    "    orð = s.split()\n",
    "    stafatalning = []\n",
    "    for i in orð:\n",
    "        stafatalning.append(len(i))\n",
    "    return stafatalning\n",
    "\n",
    "print(telja(\"Afi minn og amma mín\"))\n",
    "print(telja(\"Kristófer Birgir\"))"
   ]
  },
  {
   "cell_type": "code",
   "execution_count": 53,
   "id": "1f0dfd04-35bc-4b33-bf05-dae437b3b4ca",
   "metadata": {},
   "outputs": [
    {
     "name": "stdout",
     "output_type": "stream",
     "text": [
      "KRISTÓFER BIRGIR!!\n"
     ]
    }
   ],
   "source": [
    "#Verkefni 4.2) Orðaleikur\n",
    "\n",
    "def hrópa(s):\n",
    "    return  s.upper() \n",
    "\n",
    "print(hrópa(\"Kristófer Birgir!!\"))"
   ]
  },
  {
   "cell_type": "code",
   "execution_count": 55,
   "id": "2bc44beb-7e65-4e50-b789-54991f03895f",
   "metadata": {},
   "outputs": [
    {
     "name": "stdout",
     "output_type": "stream",
     "text": [
      "[True, False, False, False, False]\n",
      "[True, False, True, True, False, True, False]\n"
     ]
    }
   ],
   "source": [
    "#Verkefni 4.3) Orðaleikur\n",
    "\n",
    "def stórir(s):\n",
    "    orð = s.split()\n",
    "    rökgildi = []\n",
    "    for i in orð:\n",
    "        rökgildi.append(i[0] == i[0].upper())\n",
    "    return rökgildi\n",
    "\n",
    "print(stórir(\"Afi minn og amma mín\"))\n",
    "print(stórir(\"Skoðum orð Sem Byrja á Stórum staf\"))"
   ]
  },
  {
   "cell_type": "code",
   "execution_count": 58,
   "id": "949a5e57-e2a5-4be2-9b11-c3b8a39dc6e3",
   "metadata": {},
   "outputs": [
    {
     "name": "stdout",
     "output_type": "stream",
     "text": [
      "0.2500000000205116\n"
     ]
    }
   ],
   "source": [
    "#Verkefni 10.1) Töluleg diffrun\n",
    "\n",
    "def töldiff(f, a, h):\n",
    "    return (f(a + h) - f(a - h)) / (2 * h)\n",
    "\n",
    "import math\n",
    "\n",
    "print(töldiff(math.sqrt, 4, 10**-4))"
   ]
  },
  {
   "cell_type": "code",
   "execution_count": 19,
   "id": "6ff91dcf-cf9e-47ae-92d9-f90307f40586",
   "metadata": {},
   "outputs": [
    {
     "name": "stdout",
     "output_type": "stream",
     "text": [
      "0.2500000000205116\n",
      "0.25001953659254283\n",
      "0.2500001953130382\n",
      "0.25000000195318783\n",
      "0.2500000000205116\n",
      "0.2500000000016378\n",
      "0.2499999999239222\n",
      "0.24999999959085528\n",
      "0.249999987378402\n",
      "0.25000002068509275\n",
      "0.25000002068509275\n",
      "Minnsta skekkjan er: 0.2500000000205116 *\n"
     ]
    }
   ],
   "source": [
    "#Verkefni 10.2) Töluleg greining\n",
    "\n",
    "import math\n",
    "\n",
    "def töldiff(f, a, h):\n",
    "    return (f(a + h) - f(a - h)) / (2 * h)\n",
    "\n",
    "def f(x): \n",
    "    return math.sqrt(x)\n",
    "\n",
    "a = 4\n",
    "print(f\"{töldiff(f,a, (10**-4))}\")\n",
    "\n",
    "for x in range(1, 11):\n",
    "  h = math.pow(10, -x)\n",
    "  print(f\"{töldiff(f,a,h)}\")\n",
    "\n",
    "error = 0.2500000000205116\n",
    "print(f\"Minnsta skekkjan er: {error:.16f} *\")\n"
   ]
  },
  {
   "cell_type": "code",
   "execution_count": 24,
   "id": "c293a797-4835-4c67-9841-1e312f4962b5",
   "metadata": {},
   "outputs": [
    {
     "name": "stdout",
     "output_type": "stream",
     "text": [
      "{'rope': 'reipi', 'house': 'hús', 'red': 'rauður'}\n"
     ]
    }
   ],
   "source": [
    "#Verkefni 11.1) Uppfléttitafla afturábak\n",
    "\n",
    "def snuavid(U):\n",
    "    return {v: k for k, v in U.items()}\n",
    "\n",
    "U = {\"reipi\": \"rope\", \"hús\": \"house\", \"rauður\": \"red\"}\n",
    "ens_isl = snuavid(U)\n",
    "print(ens_isl)\n"
   ]
  },
  {
   "cell_type": "code",
   "execution_count": 3,
   "id": "8355f062-ad23-4d36-9492-66aa5a4ca226",
   "metadata": {},
   "outputs": [
    {
     "name": "stdout",
     "output_type": "stream",
     "text": [
      "{'reipi': 'rope', 'hús': 'house', 'rauður': 'red', 'tómarúm': 'vaccum', 'ryksuga': 'vaccum'}\n"
     ]
    }
   ],
   "source": [
    "#Verkefni 11.2) Uppfléttitafla afturábak\n",
    "\n",
    "def snuavid2(U):\n",
    "  V = {}\n",
    " \n",
    "  for key, value in U.items():\n",
    "      if value not in V:\n",
    "          V[value] = [key]\n",
    "      else:\n",
    "          V[value].append(key)\n",
    "  return V\n",
    "\n",
    "\n",
    "ísl_ens2 = {\"reipi\": \"rope\", \"hús\": \"house\", \"rauður\": \"red\", \"tómarúm\": \"vaccum\", \"ryksuga\": \"vaccum\"}\n",
    "print(ísl_ens2)"
   ]
  }
 ],
 "metadata": {
  "kernelspec": {
   "display_name": "Python 3 (ipykernel)",
   "language": "python",
   "name": "python3"
  },
  "language_info": {
   "codemirror_mode": {
    "name": "ipython",
    "version": 3
   },
   "file_extension": ".py",
   "mimetype": "text/x-python",
   "name": "python",
   "nbconvert_exporter": "python",
   "pygments_lexer": "ipython3",
   "version": "3.10.8"
  }
 },
 "nbformat": 4,
 "nbformat_minor": 5
}
