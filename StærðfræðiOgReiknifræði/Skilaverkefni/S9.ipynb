{
 "cells": [
  {
   "cell_type": "code",
   "execution_count": 1,
   "id": "a1555a68-edf7-4c3a-8463-9ddc248c1b3a",
   "metadata": {},
   "outputs": [],
   "source": [
    "#Skilaverkefni 9: Stærðfræði og reiknifræði"
   ]
  },
  {
   "cell_type": "code",
   "execution_count": 27,
   "id": "d613d6cc-777d-4b15-a694-45eede3e1335",
   "metadata": {},
   "outputs": [
    {
     "name": "stdout",
     "output_type": "stream",
     "text": [
      "Hlutfall með tvær tvennur: 4.6%\n"
     ]
    }
   ],
   "source": [
    "#Verkefni 35) Póker: \n",
    "from random import sample\n",
    "\n",
    "def pókerhönd():\n",
    "  stokkur = [(i,j) for i in range(1,5) for j in range(1,14)]\n",
    "  return sample(stokkur, 5)\n",
    "\n",
    "def með_tvær_tvennur(hönd):\n",
    "\n",
    "  gildi = [spil[1] for spil in hönd]\n",
    "  M = set(gildi)                \n",
    "  if len(M) != 3:\n",
    "    return False                \n",
    "  for spil in M:\n",
    "    talning = gildi.count(spil)\n",
    "    if talning > 2: return False \n",
    "  return True                   \n",
    "\n",
    "def hlutfall_með_2x2(n):\n",
    "  talning = 0\n",
    "  for i in range(n):\n",
    "    hönd = pókerhönd()\n",
    "    if með_tvær_tvennur(hönd):\n",
    "      talning += 1\n",
    "  return talning/n\n",
    "\n",
    "hf = hlutfall_með_2x2(100000)\n",
    "print(f'Hlutfall með tvær tvennur: {hf*100:.1f}%')\n"
   ]
  },
  {
   "cell_type": "code",
   "execution_count": 16,
   "id": "c0f2bef8-1f85-4a2e-95ef-0b71646e007f",
   "metadata": {},
   "outputs": [
    {
     "data": {
      "text/plain": [
       "False"
      ]
     },
     "execution_count": 16,
     "metadata": {},
     "output_type": "execute_result"
    }
   ],
   "source": [
    "def ertvenna(hönd):\n",
    "    gildi = [spil[1] for spil in hönd]\n",
    "    M = set(gildi)  # búa til mengi\n",
    "    if len(M) == 4:\n",
    "        for spil in M:\n",
    "            talning = gildi.count(spil)\n",
    "            if talning == 2: \n",
    "                return True \n",
    "    return False   \n",
    "\n",
    "ertvenna(pókerhönd())"
   ]
  },
  {
   "cell_type": "code",
   "execution_count": 7,
   "id": "f55e8ac8-313f-4d8f-8e4d-6f55ba585b36",
   "metadata": {},
   "outputs": [
    {
     "data": {
      "text/plain": [
       "False"
      ]
     },
     "execution_count": 7,
     "metadata": {},
     "output_type": "execute_result"
    }
   ],
   "source": [
    "def er_Þrenna(hönd):\n",
    "    gildi = [spil[1] for spil in hönd]\n",
    "    M = set(gildi)  \n",
    "    if len(M) == 3:\n",
    "        for spil in M:\n",
    "            talning = gildi.count(spil)\n",
    "            if talning == 3: \n",
    "                return True \n",
    "    return False   \n",
    "\n",
    "er_Þrenna(pókerhönd())"
   ]
  },
  {
   "cell_type": "code",
   "execution_count": 9,
   "id": "617549e4-b784-4d34-bef7-e6b692ad424c",
   "metadata": {},
   "outputs": [
    {
     "data": {
      "text/plain": [
       "False"
      ]
     },
     "execution_count": 9,
     "metadata": {},
     "output_type": "execute_result"
    }
   ],
   "source": [
    "def er_fullt_hus(hönd):\n",
    "    gildi = [spil[1] for spil in hönd]\n",
    "    M = set(gildi) \n",
    "    if len(M) == 2:\n",
    "        for spil in M:\n",
    "            talning = [gildi.count(i) for i in M]\n",
    "            if ( 2 in talning and 3 in talning):\n",
    "                return True \n",
    "    return False   \n",
    "\n",
    "er_fullt_hus(pókerhönd())"
   ]
  },
  {
   "cell_type": "code",
   "execution_count": 10,
   "id": "71032203-a3f5-4e33-a8a6-1afffad53671",
   "metadata": {},
   "outputs": [
    {
     "data": {
      "text/plain": [
       "False"
      ]
     },
     "execution_count": 10,
     "metadata": {},
     "output_type": "execute_result"
    }
   ],
   "source": [
    "def er_eintom_lit(hönd):\n",
    "    \n",
    "    gildi = [spil[0] for spil in hönd]\n",
    "    M = set(gildi) \n",
    "    if len(M) == 1:\n",
    "        return True\n",
    "    return False   \n",
    "\n",
    "\n",
    "er_eintom_lit(pókerhönd())"
   ]
  },
  {
   "cell_type": "code",
   "execution_count": 13,
   "id": "0876c8ef-b396-4a8d-ab9a-e0d7982469bc",
   "metadata": {},
   "outputs": [
    {
     "name": "stdout",
     "output_type": "stream",
     "text": [
      "Hlutfall með tvennu: 42.291%\n",
      "Hlutfall með þrennu: 2.096%\n",
      "Hlutfall með fullt hús: 0.145%\n",
      "Hlutfall með eintóma lit: 0.199%\n"
     ]
    }
   ],
   "source": [
    "def hlutfall(n):\n",
    "    tvennur = 0 \n",
    "    þremur = 0 \n",
    "    fullt_hus = 0\n",
    "    litur = 0\n",
    "    \n",
    "    for i in range(n): \n",
    "        if ertvenna(pókerhönd()):\n",
    "            tvennur += 1\n",
    "        if er_Þrenna(pókerhönd()):\n",
    "            þremur +=1\n",
    "        if er_fullt_hus(pókerhönd()):\n",
    "            fullt_hus +=1\n",
    "        if er_eintom_lit(pókerhönd()):\n",
    "            litur += 1\n",
    "    return tvennur, þremur, fullt_hus, litur\n",
    "\n",
    "first, second, third, fourth = hlutfall(1000000)\n",
    "\n",
    "print(f'Hlutfall með tvennu: {first/10000:.3f}%')\n",
    "print(f'Hlutfall með þrennu: {second/10000:.3f}%')\n",
    "print(f'Hlutfall með fullt hús: {third/10000:.3f}%')\n",
    "print(f'Hlutfall með eintóma lit: {fourth/10000:.3f}%')"
   ]
  },
  {
   "cell_type": "code",
   "execution_count": 21,
   "id": "360e2477-0ca9-49f7-95eb-12c72926174a",
   "metadata": {},
   "outputs": [
    {
     "name": "stdout",
     "output_type": "stream",
     "text": [
      "4.6 \n",
      "\n",
      "Miðstöð   Stærð\n",
      "----------------\n",
      "USGS       5.60\n",
      "GCMT       5.61\n",
      "GFZ        5.57\n"
     ]
    },
    {
     "data": {
      "text/html": [
       "<div>\n",
       "<style scoped>\n",
       "    .dataframe tbody tr th:only-of-type {\n",
       "        vertical-align: middle;\n",
       "    }\n",
       "\n",
       "    .dataframe tbody tr th {\n",
       "        vertical-align: top;\n",
       "    }\n",
       "\n",
       "    .dataframe thead th {\n",
       "        text-align: right;\n",
       "    }\n",
       "</style>\n",
       "<table border=\"1\" class=\"dataframe\">\n",
       "  <thead>\n",
       "    <tr style=\"text-align: right;\">\n",
       "      <th></th>\n",
       "      <th>Miðstöð</th>\n",
       "      <th>Land</th>\n",
       "      <th>M0</th>\n",
       "      <th>Stærð</th>\n",
       "    </tr>\n",
       "  </thead>\n",
       "  <tbody>\n",
       "    <tr>\n",
       "      <th>0</th>\n",
       "      <td>USGS</td>\n",
       "      <td>Bandaríki</td>\n",
       "      <td>3.300000e+17</td>\n",
       "      <td>5.574932</td>\n",
       "    </tr>\n",
       "    <tr>\n",
       "      <th>1</th>\n",
       "      <td>GCMT</td>\n",
       "      <td>Bandaríkinn</td>\n",
       "      <td>3.290000e+17</td>\n",
       "      <td>5.574932</td>\n",
       "    </tr>\n",
       "    <tr>\n",
       "      <th>2</th>\n",
       "      <td>GFZ</td>\n",
       "      <td>Þýskaland</td>\n",
       "      <td>2.900000e+17</td>\n",
       "      <td>5.574932</td>\n",
       "    </tr>\n",
       "  </tbody>\n",
       "</table>\n",
       "</div>"
      ],
      "text/plain": [
       "  Miðstöð         Land            M0     Stærð\n",
       "0    USGS    Bandaríki  3.300000e+17  5.574932\n",
       "1    GCMT  Bandaríkinn  3.290000e+17  5.574932\n",
       "2     GFZ    Þýskaland  2.900000e+17  5.574932"
      ]
     },
     "execution_count": 21,
     "metadata": {},
     "output_type": "execute_result"
    }
   ],
   "source": [
    "#Verkefni 36) Stærð jarðskjálfta: \n",
    "\n",
    "from math import log10, e\n",
    "import pandas as pd\n",
    "def skjalfti(M0):\n",
    "    M = 2/3*(log10(M0)-9.1)\n",
    "    return M\n",
    "\n",
    "print(skjalfti(1e16), \"\\n\")\n",
    "\n",
    "\n",
    "stærð = {\"USGS\": 3.20E17, \"GCMT\": 3.29e17, \"GFZ\": 2.9e17}\n",
    "print(\"Miðstöð   Stærð\")\n",
    "print(\"-\"*16)\n",
    "\n",
    "for miðstöð in stærð:\n",
    "    vægisst = skjalfti(stærð[miðstöð])\n",
    "    print(f\"{miðstöð:10} {vægisst:.2f}\")\n",
    "    \n",
    "    data = [[\"USGS\", \"Bandaríki\", 3.30 * 1e17],[\"GCMT\",\"Bandaríkinn\",3.29 * 1e17],[\"GFZ\", \"Þýskaland\", 2.90 * 1e17 ]]\n",
    "\n",
    "df = pd.DataFrame(data, columns= [\"Miðstöð\", \"Land\", \"M0\"])\n",
    "for i in df[\"M0\"]:\n",
    "    df[\"Stærð\"] = skjalfti(i)\n",
    "    \n",
    "df"
   ]
  },
  {
   "cell_type": "code",
   "execution_count": 22,
   "id": "b2618213-188b-48d5-b94e-d12105861d18",
   "metadata": {},
   "outputs": [
    {
     "data": {
      "text/html": [
       "<div>\n",
       "<style scoped>\n",
       "    .dataframe tbody tr th:only-of-type {\n",
       "        vertical-align: middle;\n",
       "    }\n",
       "\n",
       "    .dataframe tbody tr th {\n",
       "        vertical-align: top;\n",
       "    }\n",
       "\n",
       "    .dataframe thead th {\n",
       "        text-align: right;\n",
       "    }\n",
       "</style>\n",
       "<table border=\"1\" class=\"dataframe\">\n",
       "  <thead>\n",
       "    <tr style=\"text-align: right;\">\n",
       "      <th></th>\n",
       "      <th>x</th>\n",
       "      <th>a</th>\n",
       "      <th>log_a(x)</th>\n",
       "    </tr>\n",
       "  </thead>\n",
       "  <tbody>\n",
       "    <tr>\n",
       "      <th>0</th>\n",
       "      <td>100</td>\n",
       "      <td>10</td>\n",
       "      <td>2</td>\n",
       "    </tr>\n",
       "    <tr>\n",
       "      <th>1</th>\n",
       "      <td>243</td>\n",
       "      <td>3</td>\n",
       "      <td>5</td>\n",
       "    </tr>\n",
       "    <tr>\n",
       "      <th>2</th>\n",
       "      <td>128</td>\n",
       "      <td>2</td>\n",
       "      <td>7</td>\n",
       "    </tr>\n",
       "  </tbody>\n",
       "</table>\n",
       "</div>"
      ],
      "text/plain": [
       "     x   a  log_a(x)\n",
       "0  100  10         2\n",
       "1  243   3         5\n",
       "2  128   2         7"
      ]
     },
     "execution_count": 22,
     "metadata": {},
     "output_type": "execute_result"
    }
   ],
   "source": [
    "#Verkefni 37.1) Valkvæðir stikar: \n",
    "\n",
    "from math import log, exp\n",
    "\n",
    "def lnrót(x, a):\n",
    "   return round(log(x)/log(a))\n",
    "a = lnrót(100,10)\n",
    "b = lnrót(243,3)\n",
    "c = lnrót(128,2)\n",
    "\n",
    "data = [[100,10,a], [243,3,b],[128,2,c]]\n",
    "df = pd.DataFrame(data, columns=['x', 'a', \"log_a(x)\"])\n",
    "df\n"
   ]
  },
  {
   "cell_type": "code",
   "execution_count": 26,
   "id": "292cd5bf-4eb2-4cae-a3ac-56c39799ad64",
   "metadata": {},
   "outputs": [
    {
     "name": "stdout",
     "output_type": "stream",
     "text": [
      "[1.000, 2.718, 7.389, 20.086, 54.598, 148.413]\n"
     ]
    }
   ],
   "source": [
    "#Verkefni 37.2) Valkvæðir stikar: \n",
    "\n",
    "aba = [exp(x) for x in range(6)]\n",
    "def nauk(listi):\n",
    "   print(\"[\", end=\"\")\n",
    "   for i,k in enumerate(listi):\n",
    "      if i == len(listi)-1:\n",
    "         print(f\"{k:.3f}\", end=\"\")\n",
    "      else:\n",
    "         print(f\"{k:.3f}\", end=\", \")\n",
    "   print(\"]\")\n",
    "\n",
    "nauk(aba)"
   ]
  }
 ],
 "metadata": {
  "kernelspec": {
   "display_name": "Python 3 (ipykernel)",
   "language": "python",
   "name": "python3"
  },
  "language_info": {
   "codemirror_mode": {
    "name": "ipython",
    "version": 3
   },
   "file_extension": ".py",
   "mimetype": "text/x-python",
   "name": "python",
   "nbconvert_exporter": "python",
   "pygments_lexer": "ipython3",
   "version": "3.10.8"
  }
 },
 "nbformat": 4,
 "nbformat_minor": 5
}
