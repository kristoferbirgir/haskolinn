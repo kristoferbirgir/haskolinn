{
 "cells": [
  {
   "cell_type": "markdown",
   "id": "1caf5531-e30d-42f9-943f-334579990b98",
   "metadata": {},
   "source": [
    "# Skilaverkefni 1 í Stærðfræði og reiknifræði "
   ]
  },
  {
   "cell_type": "markdown",
   "id": "c0d55999-9df1-4040-a2ea-dcac18602555",
   "metadata": {},
   "source": [
    "## 3 Ýmis dæmi"
   ]
  },
  {
   "cell_type": "markdown",
   "id": "9d3c7cf4-6fef-40eb-bb1c-9d96b7a7870b",
   "metadata": {},
   "source": [
    "## A. Hitastigum breytt \n",
    "Hitastig í Fahrenheitgáðum er $T_F = \\frac{9}{5}T_C + 32$ þar sem $T_C$ er hitastigið í Celcíusgráðum. Skrifið forrit sem skrifar út töflu til að breyta milli skalanna sem nær frá $–30^\\text{o}C$ til $50^\\text{o}C$ og hleypur á $5^\\text{o}C$ Á Makka fæst gráðumerki með option-T og á Windows með Alt-0176."
   ]
  },
  {
   "cell_type": "markdown",
   "id": "e667f5ad-c398-4506-bc77-fa3a87225939",
   "metadata": {},
   "source": [
    "## Lausn"
   ]
  },
  {
   "cell_type": "code",
   "execution_count": 17,
   "id": "2e89347e-bb95-4bd9-90ba-f790621684a4",
   "metadata": {},
   "outputs": [
    {
     "name": "stdout",
     "output_type": "stream",
     "text": [
      "°C    °F\n",
      "–––––––––\n",
      "-30 -22.0\n",
      "-25 -13.0\n",
      "-20  -4.0\n",
      "-15   5.0\n",
      "-10  14.0\n",
      " -5  23.0\n",
      "  0  32.0\n",
      "  5  41.0\n",
      " 10  50.0\n",
      " 15  59.0\n",
      " 20  68.0\n",
      " 25  77.0\n",
      " 30  86.0\n",
      " 35  95.0\n",
      " 40 104.0\n",
      " 45 113.0\n",
      " 50 122.0\n"
     ]
    }
   ],
   "source": [
    "def celTofah(c):\n",
    "    f=((9/5*c))+32\n",
    "    return f\n",
    "\n",
    "print (\"°C    °F\")\n",
    "print (\"–––––––––\")\n",
    "for n0 in range(-30,51,5):\n",
    "    print(f\"{n0:3}{celTofah(n0):6}\")"
   ]
  },
  {
   "cell_type": "markdown",
   "id": "e16fbce7-d20e-4987-8434-1c9919df2502",
   "metadata": {},
   "source": [
    "## B. Rætur, lograr, kvaðröt\n",
    "1. Skrifið forritsbút með for-lykkju sem finnur kvaðratrætur, náttúrulega logra, og önnur veldi talnanna 1–10. Notið F-strengi til að skrifa (fallega) töflu yfir niðurstöðuna. Hafið 2 aukastafi í kvaðratrótunum og logrunum.\n",
    "2. Endurtakið með while-lykkju."
   ]
  },
  {
   "cell_type": "markdown",
   "id": "0f60cc59-fdca-4c93-8594-65be9a9ab9c5",
   "metadata": {},
   "source": [
    "## Lausn"
   ]
  },
  {
   "cell_type": "code",
   "execution_count": 68,
   "id": "9009b21e-076d-46f4-8d69-1604d5cf057e",
   "metadata": {},
   "outputs": [
    {
     "name": "stdout",
     "output_type": "stream",
     "text": [
      "n0    √   log   n0**2\n",
      "–––––––––––––––––––––\n",
      " 1   1.0   0.0     1\n",
      " 2  1.41  0.69     4\n",
      " 3  1.73   1.1     9\n",
      " 4   2.0  1.39    16\n",
      " 5  2.24  1.61    25\n",
      " 6  2.45  1.79    36\n",
      " 7  2.65  1.95    49\n",
      " 8  2.83  2.08    64\n",
      " 9   3.0   2.2    81\n",
      " 10  3.16   2.3   100\n"
     ]
    }
   ],
   "source": [
    "import math \n",
    "\n",
    "print (\"n0    √   log   n0**2\")\n",
    "print (\"–––––––––––––––––––––\")\n",
    "for n0 in range(1,11):\n",
    "    rætur = math.sqrt(n0)\n",
    "    lograr = math.log(n0)\n",
    "    kvaðröt = n0**2\n",
    "    print(f\" {n0:1} {round(rætur,2):5} {round(lograr,2):5} {round(kvaðröt,2):5}\")\n"
   ]
  },
  {
   "cell_type": "code",
   "execution_count": 76,
   "id": "a13e233d-fa96-4586-bc57-4bbcfddbd95c",
   "metadata": {},
   "outputs": [
    {
     "name": "stdout",
     "output_type": "stream",
     "text": [
      "n0    √   log   n0**2\n",
      "–––––––––––––––––––––\n",
      " 1   1.0   0.0     1\n",
      " 2  1.41  0.69     4\n",
      " 3  1.73   1.1     9\n",
      " 4   2.0  1.39    16\n",
      " 5  2.24  1.61    25\n",
      " 6  2.45  1.79    36\n",
      " 7  2.65  1.95    49\n",
      " 8  2.83  2.08    64\n",
      " 9   3.0   2.2    81\n",
      " 10  3.16   2.3   100\n"
     ]
    }
   ],
   "source": [
    "import math\n",
    "\n",
    "print (\"n0    √   log   n0**2\")\n",
    "print (\"–––––––––––––––––––––\")\n",
    "n0 =1\n",
    "while n0<=10:\n",
    "    rætur = math.sqrt(n0)\n",
    "    lograr = math.log(n0)\n",
    "    kvaðröt = n0**2\n",
    "    print(f\" {n0:1} {round(rætur,2):5} {round(lograr,2):5} {round(kvaðröt,2):5}\")\n",
    "    n0 += 1"
   ]
  },
  {
   "cell_type": "code",
   "execution_count": null,
   "id": "8e7aabf8-c08b-4b3f-9ee3-cb307736f63e",
   "metadata": {},
   "outputs": [],
   "source": []
  }
 ],
 "metadata": {
  "kernelspec": {
   "display_name": "Python 3 (ipykernel)",
   "language": "python",
   "name": "python3"
  },
  "language_info": {
   "codemirror_mode": {
    "name": "ipython",
    "version": 3
   },
   "file_extension": ".py",
   "mimetype": "text/x-python",
   "name": "python",
   "nbconvert_exporter": "python",
   "pygments_lexer": "ipython3",
   "version": "3.10.8"
  }
 },
 "nbformat": 4,
 "nbformat_minor": 5
}
