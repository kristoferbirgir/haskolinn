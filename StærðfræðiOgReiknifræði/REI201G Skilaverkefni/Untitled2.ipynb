{
 "cells": [
  {
   "cell_type": "code",
   "execution_count": 11,
   "id": "459ea95f-440f-4090-ad0a-5bf57fcc2afa",
   "metadata": {},
   "outputs": [
    {
     "name": "stdout",
     "output_type": "stream",
     "text": [
      " Útkoman er: 128 og Villa því fáum mínustölu undir rót\n"
     ]
    }
   ],
   "source": [
    "import math\n",
    "\n",
    "def fall(n,a):\n",
    "    if a > 0:\n",
    "        return a**n\n",
    "    elif n % 2 != 0 and a != 0:\n",
    "        return \"Villa\"\n",
    "    else:\n",
    "        return math.sqrt(a**n+a)\n",
    "    \n",
    "print(f\" Útkoman er: {fall(7,2)} og {fall(3,-2)} því fáum mínustölu undir rót\")\n",
    "    \n"
   ]
  },
  {
   "cell_type": "code",
   "execution_count": 44,
   "id": "ba36d4d1-3b6e-48f2-8922-f7612b01ae50",
   "metadata": {},
   "outputs": [
    {
     "name": "stdout",
     "output_type": "stream",
     "text": [
      "3 stak í listanum\n"
     ]
    }
   ],
   "source": [
    "def finna_tolu(tala):\n",
    "    for i, tala in enumerate(tala):\n",
    "        if tala ** 4 + 4 == 260:\n",
    "            return i\n",
    "    return -1\n",
    "tala = [1, 2, 3, 4, 5]\n",
    "\n",
    "print(f\"{finna_tolu(tala)} stak í listanum\")"
   ]
  },
  {
   "cell_type": "code",
   "execution_count": null,
   "id": "c0c838ff-8f5b-4e1b-8320-062bfc3a77ea",
   "metadata": {},
   "outputs": [],
   "source": []
  }
 ],
 "metadata": {
  "kernelspec": {
   "display_name": "Python 3 (ipykernel)",
   "language": "python",
   "name": "python3"
  },
  "language_info": {
   "codemirror_mode": {
    "name": "ipython",
    "version": 3
   },
   "file_extension": ".py",
   "mimetype": "text/x-python",
   "name": "python",
   "nbconvert_exporter": "python",
   "pygments_lexer": "ipython3",
   "version": "3.10.8"
  }
 },
 "nbformat": 4,
 "nbformat_minor": 5
}
