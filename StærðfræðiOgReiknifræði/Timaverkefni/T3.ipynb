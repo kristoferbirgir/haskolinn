{
 "cells": [
  {
   "cell_type": "code",
   "execution_count": 1,
   "id": "6ca611aa-56cc-4ddb-98d3-76795a21b5f7",
   "metadata": {},
   "outputs": [],
   "source": [
    "#Tímadæmi 3) Stærðfræði og reiknifræði: "
   ]
  },
  {
   "cell_type": "code",
   "execution_count": null,
   "id": "6b81ceb1-717e-49f0-b261-daa3dafac19d",
   "metadata": {},
   "outputs": [],
   "source": []
  }
 ],
 "metadata": {
  "kernelspec": {
   "display_name": "Python 3 (ipykernel)",
   "language": "python",
   "name": "python3"
  },
  "language_info": {
   "codemirror_mode": {
    "name": "ipython",
    "version": 3
   },
   "file_extension": ".py",
   "mimetype": "text/x-python",
   "name": "python",
   "nbconvert_exporter": "python",
   "pygments_lexer": "ipython3",
   "version": "3.10.8"
  }
 },
 "nbformat": 4,
 "nbformat_minor": 5
}
