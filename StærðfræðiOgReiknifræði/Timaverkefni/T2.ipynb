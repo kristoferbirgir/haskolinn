{
 "cells": [
  {
   "cell_type": "code",
   "execution_count": 1,
   "id": "61263ca9-7c68-43f3-9e40-21ef23181c19",
   "metadata": {},
   "outputs": [],
   "source": [
    "#Tímadæmi 2 í Stærðfræði og reiknifræði"
   ]
  },
  {
   "cell_type": "code",
   "execution_count": 1,
   "id": "101e096f-e57d-42c4-9839-4926d9ca96c8",
   "metadata": {},
   "outputs": [
    {
     "name": "stdout",
     "output_type": "stream",
     "text": [
      "Forrit sem leysir a·x² + b·x + c = 0\n"
     ]
    },
    {
     "name": "stdin",
     "output_type": "stream",
     "text": [
      "Sláðu inn a:  5\n",
      "Sláðu inn b:  5\n",
      "Sláðu inn c:  5\n"
     ]
    },
    {
     "name": "stdout",
     "output_type": "stream",
     "text": [
      "Engin lausn\n"
     ]
    }
   ],
   "source": [
    "#Verkefni 1) Annars stigs jafna:\n",
    "\n",
    "import math as m\n",
    "print('Forrit sem leysir a·x² + b·x + c = 0')\n",
    "a = float(input('Sláðu inn a: '))\n",
    "b = float(input('Sláðu inn b: '))\n",
    "c = float(input('Sláðu inn c: '))\n",
    "D = b**2 - 4*a*c\n",
    "if D < 0:\n",
    "    print('Engin lausn')\n",
    "elif D == 0:\n",
    "    x = -b/(2*a)\n",
    "    print('Lausnin er:', x)\n",
    "else:\n",
    "    x1 = -b + m.sqrt(D)/(2*a)\n",
    "    x2 = -b - m.sqrt(D)/(2*a)\n",
    "    print('Lausnirnar eru:', x1, x2)"
   ]
  },
  {
   "cell_type": "code",
   "execution_count": 2,
   "id": "0d724d12-de45-4cbb-8f64-0f3ee668c6ad",
   "metadata": {},
   "outputs": [
    {
     "name": "stdout",
     "output_type": "stream",
     "text": [
      "Ig=0.659, Ih=1.727\n",
      "2579\n"
     ]
    }
   ],
   "source": [
    "#Verkefni 2a) Samsett trapisuregla:\n",
    "\n",
    "def trap(f,a,b,n):\n",
    "    # heildi f frá a til b með samsettri trapisureglu og n trapisum\n",
    "    dx = (b - a)/n\n",
    "    sum = 0\n",
    "    for i in range(1,n):\n",
    "        xi = a + i*dx\n",
    "        sum += 2*f(xi)\n",
    "    (x0, xn) = (a, b)\n",
    "    sum += f(x0) + f(xn)\n",
    "    I = dx/2*sum\n",
    "    return I\n",
    "from math import sin, e\n",
    "def g(x): return sin(x)/x\n",
    "def h(x): return e**x\n",
    "n = 4\n",
    "Ig = trap(g, 1, 2, n)\n",
    "Ih = trap(h, 0, 1, n)\n",
    "print(f'Ig={Ig:.3f}, Ih={Ih:.3f}')\n",
    "Rétt_g = 0.6593299\n",
    "Rétt_h = 1.7182818\n",
    "for n in range(1,5000):\n",
    "    skekkja = abs(trap(h, 0, 1, n) - Rétt_h)\n",
    "    if skekkja < 0.5e-7:\n",
    "        print(n)\n",
    "        break"
   ]
  },
  {
   "cell_type": "code",
   "execution_count": 3,
   "id": "5e2e32d8-27ff-4027-a718-db8d80cc6a6a",
   "metadata": {},
   "outputs": [
    {
     "data": {
      "text/plain": [
       "(3.0000000000393214, 3.1622776604441363)"
      ]
     },
     "execution_count": 3,
     "metadata": {},
     "output_type": "execute_result"
    }
   ],
   "source": [
    "#Verkefni 5.1) Kvaðratrót\n",
    "\n",
    "def krót(a):\n",
    "    x = 1\n",
    "    eps = 1e-4\n",
    "    y = 2\n",
    "    while abs(x - y) >= eps:\n",
    "        x = y\n",
    "        y = (x + a/x)/2\n",
    "    return y\n",
    "krót(9), krót(10)"
   ]
  },
  {
   "cell_type": "code",
   "execution_count": 4,
   "id": "3d183258-d03c-45bf-af76-188b98de283f",
   "metadata": {},
   "outputs": [
    {
     "name": "stdout",
     "output_type": "stream",
     "text": [
      "a:5.0, kvaðratrót: 3.0000000000, ítrekanir:4\n"
     ]
    }
   ],
   "source": [
    "#Verkefni 5.2) Kvaðratrót, endurbætt:\n",
    "\n",
    "def krót(a, eps):\n",
    "    x = 1\n",
    "    y = 2\n",
    "    ítrekanir = 0\n",
    "    while abs(x - y) >= eps:\n",
    "        x = y\n",
    "        y = (x + a/x)/2\n",
    "        ítrekanir += 1\n",
    "    return y, ítrekanir\n",
    "kr, ítr = krót(9, 0.0001)\n",
    "print(f'a:{a}, kvaðratrót: {kr:.10f}, ítrekanir:{ítr}')"
   ]
  },
  {
   "cell_type": "code",
   "execution_count": 5,
   "id": "0fdec072-f27e-4900-a43c-f7af4c944d23",
   "metadata": {},
   "outputs": [
    {
     "name": "stdout",
     "output_type": "stream",
     "text": [
      "a:5.0, kvaðratrót: 3.0000153600, ítrekanir:3\n"
     ]
    }
   ],
   "source": [
    "kr, ítr = krót(9, 0.1)\n",
    "print(f'a:{a}, kvaðratrót: {kr:.10f}, ítrekanir:{ítr}')"
   ]
  },
  {
   "cell_type": "code",
   "execution_count": 6,
   "id": "5b5ab13d-2bf0-4002-9672-080d005bff45",
   "metadata": {},
   "outputs": [
    {
     "name": "stdout",
     "output_type": "stream",
     "text": [
      "a:5.0, kvaðratrót: 30.0000000000, ítrekanir:8\n"
     ]
    }
   ],
   "source": [
    "kr, ítr = krót(900, 0.0001)\n",
    "print(f'a:{a}, kvaðratrót: {kr:.10f}, ítrekanir:{ítr}')"
   ]
  },
  {
   "cell_type": "code",
   "execution_count": 7,
   "id": "ca10f055-ae61-4a8a-8592-cbc4f6d9a80c",
   "metadata": {},
   "outputs": [
    {
     "name": "stdout",
     "output_type": "stream",
     "text": [
      "a:5.0, kvaðratrót: 30.0000022656, ítrekanir:7\n"
     ]
    }
   ],
   "source": [
    "kr, ítr = krót(900, 0.1)\n",
    "print(f'a:{a}, kvaðratrót: {kr:.10f}, ítrekanir:{ítr}')"
   ]
  },
  {
   "cell_type": "code",
   "execution_count": 9,
   "id": "0d084733-3d0a-46b1-8e42-8835032eacc2",
   "metadata": {},
   "outputs": [
    {
     "name": "stdout",
     "output_type": "stream",
     "text": [
      "3.276608177155967 2.294305745404184\n",
      "3.9999999999999996 35.0\n"
     ]
    }
   ],
   "source": [
    "#Verkefni 8) Pólhnit\n",
    "\n",
    "from math import cos, sin, radians, degrees, sqrt, atan2\n",
    "def pol2rec(r, theta):\n",
    "    x = r*cos(radians(theta))\n",
    "    y = r*sin(radians(theta))\n",
    "    return (x, y)\n",
    "    \n",
    "def rec2pol(x, y):\n",
    "    theta = degrees(atan2(y, x))\n",
    "    r = sqrt(x**2 + y**2)\n",
    "    return (r, theta)\n",
    "(x, y) = pol2rec(4,35)\n",
    "print(x, y)\n",
    "(r, theta) = rec2pol(x,y)\n",
    "print(r,theta)"
   ]
  }
 ],
 "metadata": {
  "kernelspec": {
   "display_name": "Python 3 (ipykernel)",
   "language": "python",
   "name": "python3"
  },
  "language_info": {
   "codemirror_mode": {
    "name": "ipython",
    "version": 3
   },
   "file_extension": ".py",
   "mimetype": "text/x-python",
   "name": "python",
   "nbconvert_exporter": "python",
   "pygments_lexer": "ipython3",
   "version": "3.10.8"
  }
 },
 "nbformat": 4,
 "nbformat_minor": 5
}
